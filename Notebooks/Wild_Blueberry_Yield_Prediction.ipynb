{
 "cells": [
  {
   "cell_type": "markdown",
   "id": "1b42c80c-be88-4e92-b039-12195c03581a",
   "metadata": {},
   "source": [
    "## Wild Blueberry Yield Prediction"
   ]
  },
  {
   "cell_type": "code",
   "execution_count": 1,
   "id": "274512dd-5ce3-41c6-b197-af69ba0612e8",
   "metadata": {
    "tags": []
   },
   "outputs": [],
   "source": [
    "import pandas as pd\n",
    "import numpy as np\n",
    "import matplotlib.pyplot as plt\n",
    "import seaborn as sb"
   ]
  },
  {
   "cell_type": "code",
   "execution_count": null,
   "id": "0f48ad5d-7434-46c5-8496-a1eefb985d95",
   "metadata": {},
   "outputs": [],
   "source": [
    "# Get the dataset\n"
   ]
  },
  {
   "cell_type": "code",
   "execution_count": null,
   "id": "1feda9f6-97e8-4515-a2dd-6bdfc697d01f",
   "metadata": {},
   "outputs": [],
   "source": []
  }
 ],
 "metadata": {
  "kernelspec": {
   "display_name": "Python 3 (ipykernel)",
   "language": "python",
   "name": "python3"
  },
  "language_info": {
   "codemirror_mode": {
    "name": "ipython",
    "version": 3
   },
   "file_extension": ".py",
   "mimetype": "text/x-python",
   "name": "python",
   "nbconvert_exporter": "python",
   "pygments_lexer": "ipython3",
   "version": "3.11.5"
  }
 },
 "nbformat": 4,
 "nbformat_minor": 5
}
